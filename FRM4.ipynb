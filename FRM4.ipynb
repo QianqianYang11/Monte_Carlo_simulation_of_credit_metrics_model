{
 "cells": [
  {
   "cell_type": "code",
   "execution_count": 1,
   "id": "3d523935",
   "metadata": {},
   "outputs": [],
   "source": [
    "import pandas as pd\n",
    "import numpy as np\n",
    "import scipy \n",
    "from scipy.stats import norm\n",
    "from matplotlib import pyplot as plt\n",
    "import statsmodels.formula.api as smf\n",
    "import statsmodels.api as sm\n",
    "import math as m"
   ]
  },
  {
   "cell_type": "code",
   "execution_count": 2,
   "id": "8d307b8a",
   "metadata": {},
   "outputs": [
    {
     "name": "stdout",
     "output_type": "stream",
     "text": [
      "  Rating  Prob_Loan_BBB  Loss_BBB  Prob_Loan_A  Loss_A\n",
      "0    AAA         0.0002     -2.28       0.0009   -0.45\n",
      "1     AA         0.0033     -2.10       0.0227   -0.23\n",
      "2      A         0.0595     -1.57       0.9105   -0.12\n",
      "3    BBB         0.8693     -0.46       0.0552    1.08\n",
      "4     BB         0.0530      5.07       0.0074    3.16\n",
      "5      B         0.0117      8.99       0.0026    5.56\n",
      "6    CCC         0.0012     23.45       0.0001   18.78\n",
      "7      D         0.0018     55.96       0.0006   55.96\n",
      "[[0.0002 0.0033 0.0595 0.8693 0.053  0.0117 0.0012 0.0018]\n",
      " [0.0009 0.0227 0.9105 0.0552 0.0074 0.0026 0.0001 0.0006]]\n"
     ]
    }
   ],
   "source": [
    "#read data\n",
    "table = pd.read_excel('D:\\\\2023semester\\\\Lund University\\\\Financial Risk Management\\\\lab4\\\\DataLab4.xlsx')\n",
    "print(table)\n",
    "one_year_tm = table.iloc[:, [1, 3]].to_numpy()\n",
    "np.set_printoptions(precision=4,suppress=True)\n",
    "one_year_tm = one_year_tm.T\n",
    "print(one_year_tm)"
   ]
  },
  {
   "cell_type": "markdown",
   "id": "72b63cf6",
   "metadata": {},
   "source": [
    "# 1"
   ]
  },
  {
   "cell_type": "code",
   "execution_count": 3,
   "id": "b676e1bc",
   "metadata": {},
   "outputs": [],
   "source": [
    "#Monte Carlo Simulation\n",
    "M = 100000\n",
    "np.random.seed(1)\n",
    "x1 = np.random.normal(0,1,M)"
   ]
  },
  {
   "cell_type": "code",
   "execution_count": 4,
   "id": "cb74914c",
   "metadata": {},
   "outputs": [
    {
     "name": "stdout",
     "output_type": "stream",
     "text": [
      "Number of upgrade from BBB to AAA: 22\n",
      "Number of upgrade from BBB to AA: 348\n",
      "Number of upgrade from BBB to A: 5996\n",
      "Number of samegrade from BBB to BBB: 87065\n",
      "Number of downgrade from BBB to BB: 5140\n",
      "Number of downgrade from BBB to B: 1124\n",
      "Number of downgrade from BBB to CCC: 116\n",
      "Number of downgrade from BBB to D: 189\n"
     ]
    }
   ],
   "source": [
    "#Number of upgrades and downgrades\n",
    "num_up_down = {\n",
    "    'BBB_to_AAA': 0,\n",
    "    'BBB_to_AA': 0,\n",
    "    'BBB_to_A': 0,\n",
    "    'BBB_to_BBB': 0,\n",
    "    'BBB_to_BB': 0,\n",
    "    'BBB_to_B': 0,\n",
    "    'BBB_to_CCC': 0,\n",
    "    'BBB_to_D': 0   }\n",
    "\n",
    "cumulative_probs_BBB = np.cumsum(np.flip(one_year_tm[0,:]))\n",
    "quantiles_BBB = norm.ppf(cumulative_probs_BBB[:-1])\n",
    "\n",
    "for x in x1:\n",
    "    if x >= quantiles_BBB[6]:\n",
    "        num_up_down['BBB_to_AAA'] += 1\n",
    "    elif x >= quantiles_BBB[5] and x <= quantiles_BBB[6]:\n",
    "        num_up_down['BBB_to_AA'] += 1\n",
    "    elif x >= quantiles_BBB[4] and x <= quantiles_BBB[5]:\n",
    "        num_up_down['BBB_to_A'] += 1\n",
    "    elif x >= quantiles_BBB[3] and x <= quantiles_BBB[4]:\n",
    "        num_up_down['BBB_to_BBB'] += 1\n",
    "    elif x >= quantiles_BBB[2] and x <= quantiles_BBB[3]:\n",
    "        num_up_down['BBB_to_BB'] += 1\n",
    "    elif x >= quantiles_BBB[1] and x <= quantiles_BBB[2]:\n",
    "        num_up_down['BBB_to_B'] += 1\n",
    "    elif x >= quantiles_BBB[0] and x <= quantiles_BBB[1]:\n",
    "        num_up_down['BBB_to_CCC'] += 1\n",
    "    elif x <= quantiles_BBB[0]:\n",
    "        num_up_down['BBB_to_D'] += 1\n",
    "\n",
    "print(\"Number of upgrade from BBB to AAA:\", num_up_down['BBB_to_AAA'])\n",
    "print(\"Number of upgrade from BBB to AA:\", num_up_down['BBB_to_AA'])\n",
    "print(\"Number of upgrade from BBB to A:\", num_up_down['BBB_to_A'])\n",
    "print(\"Number of samegrade from BBB to BBB:\", num_up_down['BBB_to_BBB'])\n",
    "print(\"Number of downgrade from BBB to BB:\", num_up_down['BBB_to_BB'])\n",
    "print(\"Number of downgrade from BBB to B:\", num_up_down['BBB_to_B'])\n",
    "print(\"Number of downgrade from BBB to CCC:\", num_up_down['BBB_to_CCC'])\n",
    "print(\"Number of downgrade from BBB to D:\", num_up_down['BBB_to_D'])\n"
   ]
  },
  {
   "cell_type": "markdown",
   "id": "9ca61e7d",
   "metadata": {},
   "source": [
    "# 2"
   ]
  },
  {
   "cell_type": "code",
   "execution_count": 5,
   "id": "4b5b372e",
   "metadata": {},
   "outputs": [
    {
     "name": "stdout",
     "output_type": "stream",
     "text": [
      "VaR (alpha = 0.99): 7.7933\n",
      "VaR (alpha = 0.999): 10.3523\n",
      "VaR (alpha = 0.9999): 12.4587\n"
     ]
    }
   ],
   "source": [
    "#VaR\n",
    "sigma_p = 3.35\n",
    "alphas = [0.99, 0.999, 0.9999]\n",
    "\n",
    "for alpha in alphas:\n",
    "    VaR = norm.ppf(alpha,loc=0,scale=3.35) \n",
    "    print(f\"VaR (alpha = {alpha}): {VaR:.4f}\")\n"
   ]
  },
  {
   "cell_type": "markdown",
   "id": "465b7ce6",
   "metadata": {},
   "source": [
    "# 3"
   ]
  },
  {
   "cell_type": "code",
   "execution_count": 6,
   "id": "535ce718",
   "metadata": {},
   "outputs": [
    {
     "name": "stdout",
     "output_type": "stream",
     "text": [
      "PearsonRResult(statistic=-0.005551580831574802, pvalue=0.07916432147451569)\n"
     ]
    }
   ],
   "source": [
    "#Monte Carlo Simulation\n",
    "M = 100000\n",
    "np.random.seed(1)\n",
    "x1 = np.random.normal(0,1,M)\n",
    "x2 = np.random.normal(0,1,M)\n",
    "print(scipy.stats.pearsonr(x1, x2)) #Independent"
   ]
  },
  {
   "cell_type": "code",
   "execution_count": 7,
   "id": "b831ebb5",
   "metadata": {},
   "outputs": [
    {
     "name": "stdout",
     "output_type": "stream",
     "text": [
      "quantile BBB: [-2.9112 -2.7478 -2.1781 -1.4931  1.5301  2.6968  3.5401]\n",
      "quantile A: [-3.2389 -3.1947 -2.7164 -2.3009 -1.507   1.9845  3.1214]\n"
     ]
    }
   ],
   "source": [
    "#Quantile\n",
    "cumulative_probs_A = np.cumsum(np.flip(one_year_tm[1,:]))\n",
    "quantiles_A = norm.ppf(cumulative_probs_A[:-1])\n",
    "print(f\"quantile BBB: {quantiles_BBB}\")   #calculate before\n",
    "print(f\"quantile A: {quantiles_A}\")"
   ]
  },
  {
   "cell_type": "markdown",
   "id": "000f5bae",
   "metadata": {},
   "source": [
    "# 4"
   ]
  },
  {
   "cell_type": "code",
   "execution_count": 8,
   "id": "7e5f9201",
   "metadata": {},
   "outputs": [
    {
     "name": "stdout",
     "output_type": "stream",
     "text": [
      "PearsonRResult(statistic=-0.005551580831574802, pvalue=0.07916432147451569)\n",
      "empirical correlation: -0.01\n"
     ]
    }
   ],
   "source": [
    "#Add correlation\n",
    "R = 0\n",
    "q1 = x1\n",
    "q2 = R*x1+np.sqrt(1-R**2)*x2 \n",
    "print(scipy.stats.pearsonr(q1, q2))\n",
    "empirical_correlation = np.corrcoef(q1, q2)[0, 1]\n",
    "print(f\"empirical correlation: {empirical_correlation:.2f}\")  # check"
   ]
  },
  {
   "cell_type": "markdown",
   "id": "4cdeb02c",
   "metadata": {},
   "source": [
    "# 5"
   ]
  },
  {
   "cell_type": "code",
   "execution_count": 9,
   "id": "6761c077",
   "metadata": {},
   "outputs": [
    {
     "name": "stdout",
     "output_type": "stream",
     "text": [
      "Number of upgrade from BBB to AAA: 22\n",
      "Number of upgrade from BBB to AA: 348\n",
      "Number of upgrade from BBB to A: 5996\n",
      "Number of samegrade from BBB to BBB: 87065\n",
      "Number of downgrade from BBB to BB: 5140\n",
      "Number of downgrade from BBB to B: 1124\n",
      "Number of downgrade from BBB to CCC: 116\n",
      "Number of downgrade from BBB to D: 189\n",
      "The same as what we got in 1\n"
     ]
    }
   ],
   "source": [
    "#Number of upgrades and downgrades\n",
    "num_up_down = {\n",
    "    'BBB_to_AAA': 0,\n",
    "    'BBB_to_AA': 0,\n",
    "    'BBB_to_A': 0,\n",
    "    'BBB_to_BBB': 0,\n",
    "    'BBB_to_BB': 0,\n",
    "    'BBB_to_B': 0,\n",
    "    'BBB_to_CCC': 0,\n",
    "    'BBB_to_D': 0   }\n",
    "\n",
    "for q in q1:\n",
    "    if q >= quantiles_BBB[6]:\n",
    "        num_up_down['BBB_to_AAA'] += 1\n",
    "    elif q >= quantiles_BBB[5] and q <= quantiles_BBB[6]:\n",
    "        num_up_down['BBB_to_AA'] += 1\n",
    "    elif q >= quantiles_BBB[4] and q <= quantiles_BBB[5]:\n",
    "        num_up_down['BBB_to_A'] += 1\n",
    "    elif q >= quantiles_BBB[3] and q <= quantiles_BBB[4]:\n",
    "        num_up_down['BBB_to_BBB'] += 1\n",
    "    elif q >= quantiles_BBB[2] and q <= quantiles_BBB[3]:\n",
    "        num_up_down['BBB_to_BB'] += 1\n",
    "    elif q >= quantiles_BBB[1] and q <= quantiles_BBB[2]:\n",
    "        num_up_down['BBB_to_B'] += 1\n",
    "    elif q >= quantiles_BBB[0] and q <= quantiles_BBB[1]:\n",
    "        num_up_down['BBB_to_CCC'] += 1\n",
    "    elif q <= quantiles_BBB[0]:\n",
    "        num_up_down['BBB_to_D'] += 1\n",
    "\n",
    "print(\"Number of upgrade from BBB to AAA:\", num_up_down['BBB_to_AAA'])\n",
    "print(\"Number of upgrade from BBB to AA:\", num_up_down['BBB_to_AA'])\n",
    "print(\"Number of upgrade from BBB to A:\", num_up_down['BBB_to_A'])\n",
    "print(\"Number of samegrade from BBB to BBB:\", num_up_down['BBB_to_BBB'])\n",
    "print(\"Number of downgrade from BBB to BB:\", num_up_down['BBB_to_BB'])\n",
    "print(\"Number of downgrade from BBB to B:\", num_up_down['BBB_to_B'])\n",
    "print(\"Number of downgrade from BBB to CCC:\", num_up_down['BBB_to_CCC'])\n",
    "print(\"Number of downgrade from BBB to D:\", num_up_down['BBB_to_D'])\n",
    "print(\"The same as what we got in 1\")"
   ]
  },
  {
   "cell_type": "markdown",
   "id": "177329ef",
   "metadata": {},
   "source": [
    "# 6"
   ]
  },
  {
   "cell_type": "code",
   "execution_count": 10,
   "id": "0d7c7578",
   "metadata": {},
   "outputs": [
    {
     "data": {
      "image/png": "[encoded data removed]",
      "text/plain": [
       "<Figure size 1200x600 with 1 Axes>"
      ]
     },
     "metadata": {},
     "output_type": "display_data"
    }
   ],
   "source": [
    "#Portfolio losses\n",
    "BBB_losses = []\n",
    "\n",
    "for q in q1:\n",
    "    if q >= quantiles_BBB[6]:\n",
    "        BBB_loss = table.Loss_BBB[0]\n",
    "    elif q >= quantiles_BBB[5] and q <= quantiles_BBB[6]:\n",
    "        BBB_loss = table.Loss_BBB[1]\n",
    "    elif q >= quantiles_BBB[4] and q <= quantiles_BBB[5]:\n",
    "        BBB_loss = table.Loss_BBB[2]\n",
    "    elif q >= quantiles_BBB[3] and q <= quantiles_BBB[4]:\n",
    "        BBB_loss = table.Loss_BBB[3]\n",
    "    elif q >= quantiles_BBB[2] and q <= quantiles_BBB[3]:\n",
    "        BBB_loss = table.Loss_BBB[4]\n",
    "    elif q >= quantiles_BBB[1] and q <= quantiles_BBB[2]:\n",
    "        BBB_loss = table.Loss_BBB[5]\n",
    "    elif q >= quantiles_BBB[0] and q <= quantiles_BBB[1]:\n",
    "        BBB_loss = table.Loss_BBB[6]\n",
    "    elif q <= quantiles_BBB[0]:\n",
    "        BBB_loss = table.Loss_BBB[7]\n",
    "    BBB_losses.append(BBB_loss)\n",
    "\n",
    "\n",
    "A_losses = []\n",
    "\n",
    "for q in q2:\n",
    "    if q >= quantiles_A[6]:\n",
    "        A_loss = table.Loss_A[0]\n",
    "    elif q >= quantiles_A[5] and q <= quantiles_A[6]:\n",
    "        A_loss = table.Loss_A[1]\n",
    "    elif q >= quantiles_A[4] and q <= quantiles_A[5]:\n",
    "        A_loss = table.Loss_BBB[2]\n",
    "    elif q >= quantiles_A[3] and q <= quantiles_A[4]:\n",
    "        A_loss = table.Loss_BBB[3]\n",
    "    elif q >= quantiles_A[2] and q <= quantiles_A[3]:\n",
    "        A_loss = table.Loss_BBB[4]\n",
    "    elif q >= quantiles_A[1] and q <= quantiles_A[2]:\n",
    "        A_loss = table.Loss_BBB[5]\n",
    "    elif q >= quantiles_A[0] and q <= quantiles_A[1]:\n",
    "        A_loss = table.Loss_A[6]\n",
    "    elif q <= quantiles_A[0]:\n",
    "        A_loss = table.Loss_A[7]\n",
    "    A_losses.append(A_loss)\n",
    "\n",
    "portfolio_losses = np.array(BBB_losses) + np.array(A_losses)\n",
    "\n",
    "\n",
    "\n",
    "plt.figure(figsize=(12, 6))\n",
    "plt.hist(portfolio_losses)\n",
    "plt.title('Distribution of Portfolio Losses')\n",
    "plt.xlabel('Portfolio Losses')\n",
    "plt.ylabel('Frequency')\n",
    "plt.show()\n"
   ]
  },
  {
   "cell_type": "markdown",
   "id": "cfc68582",
   "metadata": {},
   "source": [
    "# 7"
   ]
  },
  {
   "cell_type": "code",
   "execution_count": 11,
   "id": "cef873be",
   "metadata": {
    "scrolled": true
   },
   "outputs": [
    {
     "name": "stdout",
     "output_type": "stream",
     "text": [
      "When R=0\n",
      "VaR (alpha = 0.99): 7.4200;\n",
      "VaR (alpha = 0.999): 54.3900;\n",
      "VaR (alpha = 0.9999): 55.7300;\n"
     ]
    }
   ],
   "source": [
    "#VaR\n",
    "alphas = [0.99, 0.999, 0.9999]\n",
    "print(\"When R=0\")\n",
    "for alpha in alphas:\n",
    "    VaR = np.quantile(portfolio_losses, alpha)\n",
    "    print(f\"VaR (alpha = {alpha}): {VaR:.4f};\")\n"
   ]
  },
  {
   "cell_type": "markdown",
   "id": "c5aec21d",
   "metadata": {},
   "source": [
    "# When R=0.35\n",
    "VaR (alpha = 0.99): 7.4200;\n",
    "VaR (alpha = 0.999): 55.5000;\n",
    "VaR (alpha = 0.9999): 64.9500;"
   ]
  },
  {
   "cell_type": "markdown",
   "id": "a6f547dc",
   "metadata": {},
   "source": [
    "# 8"
   ]
  },
  {
   "cell_type": "markdown",
   "id": "ec921f0a",
   "metadata": {},
   "source": [
    "a)\n",
    "Because higher confidence levels focus more on extreme values, but normal distriburion is not efficient at capturing the extreme events. As confidence levels increase, the tails of the loss distribution become more critical for VaR estimation. However, normal distribution assumes symmetric tails and may underestimate the likelihood of extreme losses. Therefore, at higher confidence levels, where extreme events are more important, the normal approximation tends to be far from the true portfolio VaR. In contrast, at the lowest confidence level, where extreme events are less emphasized, the normal approximation may be more accurate.\n",
    "\n",
    "\n",
    "\n",
    "b)\n",
    "Asset correlation R matters for the VaR estimate at higher confidence leve.\n",
    "When the asset correlation is high, if one of the two loans defaults, the other loan will have a higher possibility of defaulting as well. This increases the overall risk of the portfolio because both loans are likely to fail together in extreme scenarios. As a result, the VaR will be in a larger value compared to when the asset correlation is low or zero.\n"
   ]
  },
  {
   "cell_type": "code",
   "execution_count": null,
   "id": "4b65ef28",
   "metadata": {},
   "outputs": [],
   "source": []
  },
  {
   "cell_type": "code",
   "execution_count": null,
   "id": "02aaa6eb",
   "metadata": {},
   "outputs": [],
   "source": []
  }
 ],
 "metadata": {
  "kernelspec": {
   "display_name": "Python 3 (ipykernel)",
   "language": "python",
   "name": "python3"
  },
  "language_info": {
   "codemirror_mode": {
    "name": "ipython",
    "version": 3
   },
   "file_extension": ".py",
   "mimetype": "text/x-python",
   "name": "python",
   "nbconvert_exporter": "python",
   "pygments_lexer": "ipython3",
   "version": "3.11.4"
  }
 },
 "nbformat": 4,
 "nbformat_minor": 5
}
